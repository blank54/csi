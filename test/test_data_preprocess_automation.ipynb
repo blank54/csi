{
 "cells": [
  {
   "cell_type": "markdown",
   "id": "a8caab01",
   "metadata": {},
   "source": [
    "# Configurations"
   ]
  },
  {
   "cell_type": "code",
   "execution_count": 22,
   "id": "68eb5d52",
   "metadata": {},
   "outputs": [],
   "source": [
    "import os\n",
    "import sys\n",
    "\n",
    "__file__ = os.getcwd()\n",
    "__root__ = os.path.dirname(__file__)\n",
    "sys.path.append(__root__)\n",
    "\n",
    "from src.data_preprocess_automation import import_data, preprocess"
   ]
  },
  {
   "cell_type": "code",
   "execution_count": 26,
   "id": "d7b1d807",
   "metadata": {},
   "outputs": [],
   "source": [
    "# Workspace\n",
    "\n",
    "FDIR_DATA = os.path.join(__root__, 'data')"
   ]
  },
  {
   "cell_type": "markdown",
   "id": "5cbf3667",
   "metadata": {},
   "source": [
    "# File Directories"
   ]
  },
  {
   "cell_type": "code",
   "execution_count": 27,
   "id": "5d4a0947",
   "metadata": {},
   "outputs": [],
   "source": [
    "FNAME_RAW = 'csi_raw.xlsx'\n",
    "FPATH_RAW = os.path.join(FDIR_DATA, FNAME_RAW)\n",
    "\n",
    "FNAME_PREPROCESSED = 'csi_preprocessed.xlsx'\n",
    "FPATH_PREPROCESSED = os.path.join(FDIR_DATA, FNAME_PREPROCESSED)"
   ]
  },
  {
   "cell_type": "markdown",
   "id": "6bc44319",
   "metadata": {},
   "source": [
    "# Execution"
   ]
  },
  {
   "cell_type": "code",
   "execution_count": null,
   "id": "4a62b0b0",
   "metadata": {},
   "outputs": [],
   "source": [
    "raw_data = import_data(FPATH_RAW)\n",
    "preprocessed_data = preprocess(FPATH_RAW)"
   ]
  },
  {
   "cell_type": "markdown",
   "id": "4b89c2fe",
   "metadata": {},
   "source": [
    "# Print Results"
   ]
  },
  {
   "cell_type": "code",
   "execution_count": null,
   "id": "d87320d4",
   "metadata": {},
   "outputs": [],
   "source": [
    "print(raw_data)"
   ]
  },
  {
   "cell_type": "code",
   "execution_count": null,
   "id": "99f9422b",
   "metadata": {},
   "outputs": [],
   "source": [
    "print(preprocessed_data)"
   ]
  }
 ],
 "metadata": {
  "kernelspec": {
   "display_name": "Python 3 (ipykernel)",
   "language": "python",
   "name": "python3"
  },
  "language_info": {
   "codemirror_mode": {
    "name": "ipython",
    "version": 3
   },
   "file_extension": ".py",
   "mimetype": "text/x-python",
   "name": "python",
   "nbconvert_exporter": "python",
   "pygments_lexer": "ipython3",
   "version": "3.9.7"
  }
 },
 "nbformat": 4,
 "nbformat_minor": 5
}
